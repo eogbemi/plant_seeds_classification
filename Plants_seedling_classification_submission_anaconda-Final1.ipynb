{
 "cells": [
  {
   "cell_type": "markdown",
   "metadata": {
    "id": "SwK3c9iS5kIT"
   },
   "source": [
    "### Etan Ogbemi\n",
    "\n",
    "## Context:\n",
    "Can you differentiate a weed from a crop seedling?\n",
    "The ability to do so effectively can mean better crop yields and better stewardship of the environment.\n",
    "The Aarhus University Signal Processing group, in collaboration with University of Southern Denmark, has\n",
    "recently released a dataset containing images of unique plants belonging to 12 species at several growth stages\n",
    "\n",
    "### Objective:\n",
    "\n",
    "To implement the techniques learnt as a part of the course.\n",
    "\n",
    "### Learning Outcomes:\n",
    "\n",
    "* Pre-processing of image data.\n",
    "* Visualization of images.\n",
    "* Building CNN.\n",
    "* Evaluate the Model.\n",
    "* The objective of the project is to make the learners capable of handling images/image classification problems, during this process you should also be capable of handling real image files, not just limited to a numpy array of image pixels.\n",
    "\n",
    "### Guide to solve the project seamlessly:\n",
    "\n",
    "Here are the points which will help you to solve the problem efficiently:\n",
    "\n",
    "* Read the problem statement carefully from start to end (including the note at the end).\n",
    "\n",
    "The highlighted part in the attached problem statement should not be missed.\n",
    "\n",
    "* Download the dataset from the Olympus platform.\n",
    "* Upload the \"images.npy\" and “Labels.csv” file to google drive.\n",
    "* Then you can use the dataset path in the Google Colab notebook to do further steps related to project problem statement.\n",
    "* You can set runtime type to “GPU” in Google Colab, so that the code will run faster as you will be using CNN to fit your model.\n",
    "\n",
    "### Note:\n",
    "\n",
    "Download the images.npy file from the Olympus Platform.\n",
    "Do not download the dataset from Kaggle, as:\n",
    "\n",
    "* The dataset is big.\n",
    "* The dataset has 2 files for train and test images, but the labels are only for the train file. Test file has no labels associated with it. So, when you want to know the accuracy of model on test images, there’s no way to measure it. That’s why the data provided to you on Olympus has only train images converted into numpy array and their labels in the csv file. For our purpose we use this for our training and testing and validation purpose.\n",
    "\n",
    "## Data Description:\n",
    "\n",
    "\n",
    "You are provided with a dataset  of  images of  plant seedlings at various stages of  growth.  Each image has a filename that is its unique  id.  The  dataset  comprises  12  plant  species.  The  goal  of  the  project  is  to  create  a  classifier  capable  of  determining  a plant's species from a photo.\n",
    "\n",
    "### Dataset\n",
    "\n",
    "The dataset can be download from Olympus.The data file names are:\n",
    "\n",
    "* images.npy\n",
    "* Label.csv\n",
    "\n",
    "The original files are from Kaggle. Due to the large volume of data, the images were converted to images.npy file and the labels are  also  put  into  the  Labels.csv.  So  that  you  can  work  on  the  data/project  seamlessly  without  worrying  about  the  high  data volume.The following code was used to convert the large dataset of images to numpy array"
   ]
  },
  {
   "cell_type": "code",
   "execution_count": 1,
   "metadata": {
    "executionInfo": {
     "elapsed": 362,
     "status": "ok",
     "timestamp": 1648101247775,
     "user": {
      "displayName": "Etan O",
      "photoUrl": "https://lh3.googleusercontent.com/a-/AOh14GjP7Z8cWqW2x4DR3SWvO8qEXZcA8p_U4h5bSGmy6mg=s64",
      "userId": "07025373812308569463"
     },
     "user_tz": 300
    },
    "id": "l8KP51Fc5hl8"
   },
   "outputs": [],
   "source": [
    "# Import the necessary libraries\n",
    "import cv2\n",
    "#Reading the training images from the path and labelling them into the given categories\n",
    "import numpy as np\n",
    "import pandas as pd\n",
    "import matplotlib.pyplot as plt\n",
    "import cv2 # this is an important module to get imported which may even cause issues while reading the data if not used\n",
    "import os\n",
    "import seaborn as sns # for data visualization \n",
    "import tensorflow as tf\n",
    "import keras\n",
    "import os\n",
    "import random\n",
    "from sklearn.model_selection import train_test_split\n",
    "from tensorflow.keras.models import Sequential #sequential api for sequential model \n",
    "from tensorflow.keras.layers import Dense, Dropout, Flatten #importing different layers \n",
    "from tensorflow.keras.layers import Conv2D, MaxPooling2D, BatchNormalization, Activation, Input, LeakyReLU,Activation\n",
    "from tensorflow.keras import backend as K\n",
    "from tensorflow.keras.utils import to_categorical #to perform one-hot encoding \n",
    "from tensorflow.keras.layers import Dense, Dropout, Flatten, Conv2D, MaxPool2D\n",
    "from tensorflow.keras.optimizers import RMSprop,Adam #optimiers for optimizing the model\n",
    "from tensorflow.keras.callbacks import EarlyStopping  #regularization method to prevent the overfitting\n",
    "from tensorflow.keras.callbacks import ModelCheckpoint\n",
    "from tensorflow.keras.models import Sequential, Model\n",
    "from tensorflow.keras import losses, optimizers\n",
    "# from cv2 import cv2_imshow\n",
    "# from google.colab.patches import cv2_imshow\n",
    "from PIL import Image\n",
    "from tensorflow.keras.preprocessing import image"
   ]
  },
  {
   "cell_type": "code",
   "execution_count": 2,
   "metadata": {
    "executionInfo": {
     "elapsed": 123,
     "status": "ok",
     "timestamp": 1648097834838,
     "user": {
      "displayName": "Etan O",
      "photoUrl": "https://lh3.googleusercontent.com/a-/AOh14GjP7Z8cWqW2x4DR3SWvO8qEXZcA8p_U4h5bSGmy6mg=s64",
      "userId": "07025373812308569463"
     },
     "user_tz": 300
    },
    "id": "TW0zn7VeLUAJ"
   },
   "outputs": [],
   "source": [
    "# confirm that we can connect to the GPU with tensorflow:\n",
    "# device_name = tf.test.gpu_device_name()\n",
    "# if device_name != '/device:GPU:0':\n",
    "#   raise SystemError('GPU device not found')\n",
    "# print('Found GPU at: {}'.format(device_name))"
   ]
  },
  {
   "cell_type": "code",
   "execution_count": 3,
   "metadata": {
    "executionInfo": {
     "elapsed": 2378,
     "status": "ok",
     "timestamp": 1648097839432,
     "user": {
      "displayName": "Etan O",
      "photoUrl": "https://lh3.googleusercontent.com/a-/AOh14GjP7Z8cWqW2x4DR3SWvO8qEXZcA8p_U4h5bSGmy6mg=s64",
      "userId": "07025373812308569463"
     },
     "user_tz": 300
    },
    "id": "xjldbgZmJwJh"
   },
   "outputs": [],
   "source": [
    "# Load the image classes (categories) and the images them selves \n",
    "# which are in a numpy array\n",
    "numpy_data = np.load(\"G:\\My Drive\\Colab_Notebooks\\Plants_seedling_classification_project/images.npy\")\n",
    "labels = pd.read_csv(\"G:\\My Drive\\Colab_Notebooks\\Plants_seedling_classification_project/Labels.csv\")"
   ]
  },
  {
   "cell_type": "code",
   "execution_count": 4,
   "metadata": {
    "colab": {
     "base_uri": "https://localhost:8080/"
    },
    "executionInfo": {
     "elapsed": 158,
     "status": "ok",
     "timestamp": 1648101756363,
     "user": {
      "displayName": "Etan O",
      "photoUrl": "https://lh3.googleusercontent.com/a-/AOh14GjP7Z8cWqW2x4DR3SWvO8qEXZcA8p_U4h5bSGmy6mg=s64",
      "userId": "07025373812308569463"
     },
     "user_tz": 300
    },
    "id": "wo-4xwVfhL6k",
    "outputId": "12bc01f3-8dcb-4f47-9704-37132003f4f5"
   },
   "outputs": [
    {
     "data": {
      "text/plain": [
       "(4750, 128, 128, 3)"
      ]
     },
     "execution_count": 4,
     "metadata": {},
     "output_type": "execute_result"
    }
   ],
   "source": [
    "# view the shape of the data\n",
    "numpy_data.shape"
   ]
  },
  {
   "cell_type": "code",
   "execution_count": 5,
   "metadata": {},
   "outputs": [
    {
     "data": {
      "text/plain": [
       "array([[[[ 35,  52,  78],\n",
       "         [ 36,  49,  76],\n",
       "         [ 31,  45,  69],\n",
       "         ...,\n",
       "         [ 78,  95, 114],\n",
       "         [ 76,  93, 110],\n",
       "         [ 80,  95, 109]],\n",
       "\n",
       "        [[ 33,  46,  68],\n",
       "         [ 37,  50,  73],\n",
       "         [ 48,  65,  83],\n",
       "         ...,\n",
       "         [ 81,  96, 113],\n",
       "         [ 74,  89, 105],\n",
       "         [ 83,  95, 109]],\n",
       "\n",
       "        [[ 34,  50,  68],\n",
       "         [ 35,  52,  72],\n",
       "         [ 70,  85, 101],\n",
       "         ...,\n",
       "         [ 83,  97, 112],\n",
       "         [ 79,  94, 108],\n",
       "         [ 79,  94, 107]],\n",
       "\n",
       "        ...,\n",
       "\n",
       "        [[ 35,  50,  69],\n",
       "         [ 42,  57,  73],\n",
       "         [ 42,  57,  72],\n",
       "         ...,\n",
       "         [ 60,  76,  92],\n",
       "         [ 67,  81,  97],\n",
       "         [ 64,  77,  95]],\n",
       "\n",
       "        [[ 36,  52,  67],\n",
       "         [ 48,  63,  78],\n",
       "         [ 41,  57,  73],\n",
       "         ...,\n",
       "         [ 44,  66,  83],\n",
       "         [ 58,  76,  91],\n",
       "         [ 57,  74,  90]],\n",
       "\n",
       "        [[ 44,  58,  70],\n",
       "         [ 43,  57,  73],\n",
       "         [ 40,  55,  72],\n",
       "         ...,\n",
       "         [ 41,  70,  92],\n",
       "         [ 55,  78,  97],\n",
       "         [ 61,  79,  96]]],\n",
       "\n",
       "\n",
       "       [[[ 30,  47,  63],\n",
       "         [ 30,  50,  60],\n",
       "         [ 34,  47,  63],\n",
       "         ...,\n",
       "         [ 48,  59,  74],\n",
       "         [ 42,  54,  69],\n",
       "         [ 44,  56,  70]],\n",
       "\n",
       "        [[ 30,  49,  67],\n",
       "         [ 26,  47,  60],\n",
       "         [ 30,  40,  61],\n",
       "         ...,\n",
       "         [ 50,  64,  76],\n",
       "         [ 52,  67,  78],\n",
       "         [ 45,  56,  72]],\n",
       "\n",
       "        [[ 23,  46,  65],\n",
       "         [ 27,  48,  64],\n",
       "         [ 25,  40,  59],\n",
       "         ...,\n",
       "         [ 39,  59,  81],\n",
       "         [ 47,  62,  79],\n",
       "         [ 42,  54,  69]],\n",
       "\n",
       "        ...,\n",
       "\n",
       "        [[ 32,  54,  72],\n",
       "         [ 58,  82,  95],\n",
       "         [ 72,  96, 109],\n",
       "         ...,\n",
       "         [ 60,  80,  99],\n",
       "         [ 50,  72,  92],\n",
       "         [ 45,  64,  84]],\n",
       "\n",
       "        [[ 31,  51,  67],\n",
       "         [ 25,  50,  64],\n",
       "         [ 38,  64,  80],\n",
       "         ...,\n",
       "         [ 63,  83, 101],\n",
       "         [ 57,  78,  96],\n",
       "         [ 50,  69,  89]],\n",
       "\n",
       "        [[ 18,  32,  56],\n",
       "         [ 16,  27,  50],\n",
       "         [ 34,  49,  71],\n",
       "         ...,\n",
       "         [ 59,  84, 101],\n",
       "         [ 55,  80,  97],\n",
       "         [ 39,  59,  82]]],\n",
       "\n",
       "\n",
       "       [[[154, 149, 144],\n",
       "         [162, 156, 152],\n",
       "         [161, 154, 151],\n",
       "         ...,\n",
       "         [175, 180, 183],\n",
       "         [177, 181, 184],\n",
       "         [175, 179, 179]],\n",
       "\n",
       "        [[154, 150, 147],\n",
       "         [162, 156, 154],\n",
       "         [154, 147, 145],\n",
       "         ...,\n",
       "         [168, 173, 180],\n",
       "         [171, 175, 181],\n",
       "         [173, 176, 180]],\n",
       "\n",
       "        [[151, 149, 149],\n",
       "         [159, 155, 156],\n",
       "         [158, 154, 152],\n",
       "         ...,\n",
       "         [173, 176, 180],\n",
       "         [178, 182, 186],\n",
       "         [179, 182, 185]],\n",
       "\n",
       "        ...,\n",
       "\n",
       "        [[ 58,  72,  96],\n",
       "         [ 69,  83, 105],\n",
       "         [ 69,  84, 104],\n",
       "         ...,\n",
       "         [175, 170, 167],\n",
       "         [176, 169, 167],\n",
       "         [176, 167, 165]],\n",
       "\n",
       "        [[ 64,  76,  98],\n",
       "         [ 77,  87, 108],\n",
       "         [ 79,  91, 109],\n",
       "         ...,\n",
       "         [177, 172, 170],\n",
       "         [179, 173, 171],\n",
       "         [176, 169, 166]],\n",
       "\n",
       "        [[ 68,  80,  99],\n",
       "         [ 78,  89, 108],\n",
       "         [ 79,  92, 108],\n",
       "         ...,\n",
       "         [179, 173, 170],\n",
       "         [177, 171, 166],\n",
       "         [178, 171, 167]]],\n",
       "\n",
       "\n",
       "       ...,\n",
       "\n",
       "\n",
       "       [[[163, 165, 170],\n",
       "         [ 55,  56,  67],\n",
       "         [ 58,  56,  60],\n",
       "         ...,\n",
       "         [ 46,  47,  58],\n",
       "         [ 49,  51,  60],\n",
       "         [ 53,  54,  64]],\n",
       "\n",
       "        [[101,  94, 120],\n",
       "         [ 60,  58,  68],\n",
       "         [ 57,  58,  62],\n",
       "         ...,\n",
       "         [ 47,  48,  58],\n",
       "         [ 55,  57,  65],\n",
       "         [ 50,  54,  64]],\n",
       "\n",
       "        [[ 64,  56,  76],\n",
       "         [ 64,  60,  67],\n",
       "         [ 54,  50,  55],\n",
       "         ...,\n",
       "         [ 47,  50,  60],\n",
       "         [ 48,  51,  62],\n",
       "         [ 45,  49,  60]],\n",
       "\n",
       "        ...,\n",
       "\n",
       "        [[ 30,  43,  64],\n",
       "         [ 43,  60,  86],\n",
       "         [ 82, 102, 125],\n",
       "         ...,\n",
       "         [ 42,  58,  76],\n",
       "         [ 44,  59,  79],\n",
       "         [ 48,  64,  81]],\n",
       "\n",
       "        [[ 36,  47,  62],\n",
       "         [ 27,  41,  64],\n",
       "         [ 42,  59,  89],\n",
       "         ...,\n",
       "         [ 42,  60,  76],\n",
       "         [ 41,  59,  77],\n",
       "         [ 42,  60,  76]],\n",
       "\n",
       "        [[ 30,  41,  57],\n",
       "         [ 26,  40,  59],\n",
       "         [ 30,  45,  68],\n",
       "         ...,\n",
       "         [ 41,  59,  74],\n",
       "         [ 39,  60,  73],\n",
       "         [ 40,  57,  74]]],\n",
       "\n",
       "\n",
       "       [[[116, 142, 153],\n",
       "         [107, 137, 152],\n",
       "         [110, 141, 154],\n",
       "         ...,\n",
       "         [ 50,  74,  92],\n",
       "         [ 55,  78,  96],\n",
       "         [ 49,  70,  91]],\n",
       "\n",
       "        [[101, 128, 138],\n",
       "         [ 95, 128, 145],\n",
       "         [115, 145, 154],\n",
       "         ...,\n",
       "         [ 46,  69,  86],\n",
       "         [ 47,  70,  91],\n",
       "         [ 48,  71,  90]],\n",
       "\n",
       "        [[ 47,  61,  78],\n",
       "         [ 77, 100, 117],\n",
       "         [101, 132, 140],\n",
       "         ...,\n",
       "         [ 25,  36,  67],\n",
       "         [ 40,  61,  87],\n",
       "         [ 44,  71,  89]],\n",
       "\n",
       "        ...,\n",
       "\n",
       "        [[ 42,  58,  79],\n",
       "         [ 44,  57,  77],\n",
       "         [ 39,  54,  72],\n",
       "         ...,\n",
       "         [ 54,  71,  93],\n",
       "         [ 54,  74,  90],\n",
       "         [ 41,  56,  73]],\n",
       "\n",
       "        [[ 38,  63,  92],\n",
       "         [ 34,  60,  87],\n",
       "         [ 40,  62,  81],\n",
       "         ...,\n",
       "         [ 59,  75,  94],\n",
       "         [ 50,  70,  88],\n",
       "         [ 40,  57,  73]],\n",
       "\n",
       "        [[ 33,  61,  93],\n",
       "         [ 33,  62,  95],\n",
       "         [ 42,  70,  94],\n",
       "         ...,\n",
       "         [ 52,  67,  89],\n",
       "         [ 49,  67,  87],\n",
       "         [ 34,  51,  71]]],\n",
       "\n",
       "\n",
       "       [[[ 53,  66,  84],\n",
       "         [ 45,  56,  74],\n",
       "         [ 52,  67,  86],\n",
       "         ...,\n",
       "         [ 50,  71,  95],\n",
       "         [ 83, 106, 124],\n",
       "         [ 65,  86, 113]],\n",
       "\n",
       "        [[ 54,  68,  87],\n",
       "         [ 38,  48,  63],\n",
       "         [ 29,  44,  67],\n",
       "         ...,\n",
       "         [ 63,  85, 105],\n",
       "         [ 64,  89, 112],\n",
       "         [ 71,  95, 115]],\n",
       "\n",
       "        [[ 49,  63,  80],\n",
       "         [ 60,  80, 104],\n",
       "         [ 78, 107, 127],\n",
       "         ...,\n",
       "         [ 41,  70,  73],\n",
       "         [ 42,  77,  80],\n",
       "         [ 57,  83,  95]],\n",
       "\n",
       "        ...,\n",
       "\n",
       "        [[ 50,  65,  79],\n",
       "         [ 50,  65,  84],\n",
       "         [ 55,  74,  94],\n",
       "         ...,\n",
       "         [ 28,  52,  79],\n",
       "         [ 31,  50,  74],\n",
       "         [ 32,  51,  72]],\n",
       "\n",
       "        [[ 59,  75,  89],\n",
       "         [ 57,  74,  91],\n",
       "         [ 57,  79,  96],\n",
       "         ...,\n",
       "         [ 34,  56,  79],\n",
       "         [ 71,  90, 102],\n",
       "         [ 72,  89, 104]],\n",
       "\n",
       "        [[ 68,  85, 103],\n",
       "         [ 66,  80,  96],\n",
       "         [ 67,  86, 100],\n",
       "         ...,\n",
       "         [ 70,  87, 101],\n",
       "         [ 68,  82,  95],\n",
       "         [ 68,  84, 101]]]], dtype=uint8)"
      ]
     },
     "execution_count": 5,
     "metadata": {},
     "output_type": "execute_result"
    }
   ],
   "source": [
    "# View the array\n",
    "numpy_data"
   ]
  },
  {
   "cell_type": "code",
   "execution_count": 6,
   "metadata": {},
   "outputs": [
    {
     "name": "stdout",
     "output_type": "stream",
     "text": [
      "<class 'numpy.ndarray'>\n"
     ]
    }
   ],
   "source": [
    "print(type(numpy_data))"
   ]
  },
  {
   "cell_type": "code",
   "execution_count": 7,
   "metadata": {
    "colab": {
     "base_uri": "https://localhost:8080/"
    },
    "executionInfo": {
     "elapsed": 7,
     "status": "ok",
     "timestamp": 1648097844151,
     "user": {
      "displayName": "Etan O",
      "photoUrl": "https://lh3.googleusercontent.com/a-/AOh14GjP7Z8cWqW2x4DR3SWvO8qEXZcA8p_U4h5bSGmy6mg=s64",
      "userId": "07025373812308569463"
     },
     "user_tz": 300
    },
    "id": "kTEqvMIbONID",
    "outputId": "a5eee364-6f21-41a0-f25c-a59d02bd6b8e"
   },
   "outputs": [
    {
     "name": "stdout",
     "output_type": "stream",
     "text": [
      "Loose Silky-bent             654\n",
      "Common Chickweed             611\n",
      "Scentless Mayweed            516\n",
      "Small-flowered Cranesbill    496\n",
      "Fat Hen                      475\n",
      "Charlock                     390\n",
      "Sugar beet                   385\n",
      "Cleavers                     287\n",
      "Black-grass                  263\n",
      "Shepherds Purse              231\n",
      "Maize                        221\n",
      "Common wheat                 221\n",
      "Name: Label, dtype: int64\n"
     ]
    }
   ],
   "source": [
    "# To view the categories and confirm there are indeed 12 of them and view the frequency of each category\n",
    "for col in labels.columns:\n",
    "    print(labels[col].value_counts()) # how many images in each category"
   ]
  },
  {
   "cell_type": "code",
   "execution_count": 8,
   "metadata": {
    "colab": {
     "base_uri": "https://localhost:8080/",
     "height": 423
    },
    "executionInfo": {
     "elapsed": 119,
     "status": "ok",
     "timestamp": 1648102049726,
     "user": {
      "displayName": "Etan O",
      "photoUrl": "https://lh3.googleusercontent.com/a-/AOh14GjP7Z8cWqW2x4DR3SWvO8qEXZcA8p_U4h5bSGmy6mg=s64",
      "userId": "07025373812308569463"
     },
     "user_tz": 300
    },
    "id": "7vixGinGiVIn",
    "outputId": "5f9b525a-49b3-4e55-bd27-6672e1f0783e"
   },
   "outputs": [
    {
     "data": {
      "text/html": [
       "<div>\n",
       "<style scoped>\n",
       "    .dataframe tbody tr th:only-of-type {\n",
       "        vertical-align: middle;\n",
       "    }\n",
       "\n",
       "    .dataframe tbody tr th {\n",
       "        vertical-align: top;\n",
       "    }\n",
       "\n",
       "    .dataframe thead th {\n",
       "        text-align: right;\n",
       "    }\n",
       "</style>\n",
       "<table border=\"1\" class=\"dataframe\">\n",
       "  <thead>\n",
       "    <tr style=\"text-align: right;\">\n",
       "      <th></th>\n",
       "      <th>Label</th>\n",
       "    </tr>\n",
       "  </thead>\n",
       "  <tbody>\n",
       "    <tr>\n",
       "      <th>0</th>\n",
       "      <td>Small-flowered Cranesbill</td>\n",
       "    </tr>\n",
       "    <tr>\n",
       "      <th>1</th>\n",
       "      <td>Small-flowered Cranesbill</td>\n",
       "    </tr>\n",
       "    <tr>\n",
       "      <th>2</th>\n",
       "      <td>Small-flowered Cranesbill</td>\n",
       "    </tr>\n",
       "    <tr>\n",
       "      <th>3</th>\n",
       "      <td>Small-flowered Cranesbill</td>\n",
       "    </tr>\n",
       "    <tr>\n",
       "      <th>4</th>\n",
       "      <td>Small-flowered Cranesbill</td>\n",
       "    </tr>\n",
       "    <tr>\n",
       "      <th>...</th>\n",
       "      <td>...</td>\n",
       "    </tr>\n",
       "    <tr>\n",
       "      <th>4745</th>\n",
       "      <td>Loose Silky-bent</td>\n",
       "    </tr>\n",
       "    <tr>\n",
       "      <th>4746</th>\n",
       "      <td>Loose Silky-bent</td>\n",
       "    </tr>\n",
       "    <tr>\n",
       "      <th>4747</th>\n",
       "      <td>Loose Silky-bent</td>\n",
       "    </tr>\n",
       "    <tr>\n",
       "      <th>4748</th>\n",
       "      <td>Loose Silky-bent</td>\n",
       "    </tr>\n",
       "    <tr>\n",
       "      <th>4749</th>\n",
       "      <td>Loose Silky-bent</td>\n",
       "    </tr>\n",
       "  </tbody>\n",
       "</table>\n",
       "<p>4750 rows × 1 columns</p>\n",
       "</div>"
      ],
      "text/plain": [
       "                          Label\n",
       "0     Small-flowered Cranesbill\n",
       "1     Small-flowered Cranesbill\n",
       "2     Small-flowered Cranesbill\n",
       "3     Small-flowered Cranesbill\n",
       "4     Small-flowered Cranesbill\n",
       "...                         ...\n",
       "4745           Loose Silky-bent\n",
       "4746           Loose Silky-bent\n",
       "4747           Loose Silky-bent\n",
       "4748           Loose Silky-bent\n",
       "4749           Loose Silky-bent\n",
       "\n",
       "[4750 rows x 1 columns]"
      ]
     },
     "execution_count": 8,
     "metadata": {},
     "output_type": "execute_result"
    }
   ],
   "source": [
    "# View the dataframe\n",
    "labels # labels is a dataframe"
   ]
  },
  {
   "cell_type": "code",
   "execution_count": 9,
   "metadata": {
    "colab": {
     "base_uri": "https://localhost:8080/"
    },
    "executionInfo": {
     "elapsed": 87,
     "status": "ok",
     "timestamp": 1648097846826,
     "user": {
      "displayName": "Etan O",
      "photoUrl": "https://lh3.googleusercontent.com/a-/AOh14GjP7Z8cWqW2x4DR3SWvO8qEXZcA8p_U4h5bSGmy6mg=s64",
      "userId": "07025373812308569463"
     },
     "user_tz": 300
    },
    "id": "PjcPTGZyGd97",
    "outputId": "a80dfe00-0d80-44bf-ee0e-a51d93db5be8"
   },
   "outputs": [
    {
     "data": {
      "text/plain": [
       "Loose Silky-bent             13.768421\n",
       "Common Chickweed             12.863158\n",
       "Scentless Mayweed            10.863158\n",
       "Small-flowered Cranesbill    10.442105\n",
       "Fat Hen                      10.000000\n",
       "Charlock                      8.210526\n",
       "Sugar beet                    8.105263\n",
       "Cleavers                      6.042105\n",
       "Black-grass                   5.536842\n",
       "Shepherds Purse               4.863158\n",
       "Maize                         4.652632\n",
       "Common wheat                  4.652632\n",
       "Name: Label, dtype: float64"
      ]
     },
     "execution_count": 9,
     "metadata": {},
     "output_type": "execute_result"
    }
   ],
   "source": [
    "# The frequency of the classes by percentage\n",
    "labels[col].value_counts(normalize=True)*100"
   ]
  },
  {
   "cell_type": "markdown",
   "metadata": {
    "id": "cAfupvNcjykl"
   },
   "source": [
    "### Observation\n",
    "\n",
    "The dataset is not balanced, however the most severe unbalance is a ratio of about 3:1, majority to minority class, so we will not use undersample or oversample techniques as the dataset appears robust enough.  The bias due to the dominant classes numbers should not overly affect the model's predictiveness as there is sufficient data in the minoirity classes to provide good modelling."
   ]
  },
  {
   "cell_type": "code",
   "execution_count": 10,
   "metadata": {
    "executionInfo": {
     "elapsed": 111,
     "status": "ok",
     "timestamp": 1648097855596,
     "user": {
      "displayName": "Etan O",
      "photoUrl": "https://lh3.googleusercontent.com/a-/AOh14GjP7Z8cWqW2x4DR3SWvO8qEXZcA8p_U4h5bSGmy6mg=s64",
      "userId": "07025373812308569463"
     },
     "user_tz": 300
    },
    "id": "JnpJP391PMqC"
   },
   "outputs": [],
   "source": [
    "# Create an array of the 12 categories which will be used for classification at the output layer\n",
    "# of the CNN.  We may consider converting the array into a tuple as tuples process faster but for now we won't\n",
    "# cat_labels = labels[Label].unique()\n",
    "cat_labels = labels[col].unique() #changes type from dataframe to numpy array\n",
    "# array_tuple = tuple([tuple(e) for e in cat_labels])\n",
    "# print(array_tuple)"
   ]
  },
  {
   "cell_type": "code",
   "execution_count": 11,
   "metadata": {},
   "outputs": [
    {
     "name": "stdout",
     "output_type": "stream",
     "text": [
      "<class 'numpy.ndarray'>\n"
     ]
    }
   ],
   "source": [
    "# Checking the data type is an array\n",
    "print(type(cat_labels))"
   ]
  },
  {
   "cell_type": "code",
   "execution_count": 12,
   "metadata": {},
   "outputs": [
    {
     "name": "stdout",
     "output_type": "stream",
     "text": [
      "<class 'pandas.core.frame.DataFrame'>\n"
     ]
    }
   ],
   "source": [
    "print(type(labels))"
   ]
  },
  {
   "cell_type": "code",
   "execution_count": 13,
   "metadata": {},
   "outputs": [
    {
     "data": {
      "text/plain": [
       "array(['Small-flowered Cranesbill', 'Fat Hen', 'Shepherds Purse',\n",
       "       'Common wheat', 'Common Chickweed', 'Charlock', 'Cleavers',\n",
       "       'Scentless Mayweed', 'Sugar beet', 'Maize', 'Black-grass',\n",
       "       'Loose Silky-bent'], dtype=object)"
      ]
     },
     "execution_count": 13,
     "metadata": {},
     "output_type": "execute_result"
    }
   ],
   "source": [
    "cat_labels"
   ]
  },
  {
   "cell_type": "code",
   "execution_count": 14,
   "metadata": {},
   "outputs": [
    {
     "data": {
      "text/plain": [
       "(12,)"
      ]
     },
     "execution_count": 14,
     "metadata": {},
     "output_type": "execute_result"
    }
   ],
   "source": [
    "cat_labels.shape"
   ]
  },
  {
   "cell_type": "code",
   "execution_count": 15,
   "metadata": {
    "colab": {
     "base_uri": "https://localhost:8080/"
    },
    "executionInfo": {
     "elapsed": 9,
     "status": "ok",
     "timestamp": 1648096378153,
     "user": {
      "displayName": "Etan O",
      "photoUrl": "https://lh3.googleusercontent.com/a-/AOh14GjP7Z8cWqW2x4DR3SWvO8qEXZcA8p_U4h5bSGmy6mg=s64",
      "userId": "07025373812308569463"
     },
     "user_tz": 300
    },
    "id": "nFe1TwZnKnw3",
    "outputId": "3489ecfa-cd5c-4b0c-c172-f77e030dd306"
   },
   "outputs": [
    {
     "data": {
      "text/plain": [
       "['Label']"
      ]
     },
     "execution_count": 15,
     "metadata": {},
     "output_type": "execute_result"
    }
   ],
   "source": [
    "# Change spaces in the elements in labels to underscore\n",
    "converter = lambda x: x.replace(' ', '_')\n",
    "labels_nospace = list(map(converter, labels))\n",
    "labels_nospace"
   ]
  },
  {
   "cell_type": "code",
   "execution_count": 16,
   "metadata": {},
   "outputs": [
    {
     "name": "stdout",
     "output_type": "stream",
     "text": [
      "<class 'list'>\n"
     ]
    }
   ],
   "source": [
    "print(type(labels_nospace))"
   ]
  },
  {
   "cell_type": "code",
   "execution_count": 17,
   "metadata": {},
   "outputs": [
    {
     "name": "stdout",
     "output_type": "stream",
     "text": [
      "Label\n"
     ]
    }
   ],
   "source": [
    "for x in range(len(labels_nospace)):\n",
    "    print (labels_nospace[x]),"
   ]
  },
  {
   "cell_type": "code",
   "execution_count": 18,
   "metadata": {},
   "outputs": [],
   "source": [
    "# labels_nospace[col].value_counts(normalize=True)*100"
   ]
  },
  {
   "cell_type": "code",
   "execution_count": 19,
   "metadata": {},
   "outputs": [
    {
     "data": {
      "text/html": [
       "<div>\n",
       "<style scoped>\n",
       "    .dataframe tbody tr th:only-of-type {\n",
       "        vertical-align: middle;\n",
       "    }\n",
       "\n",
       "    .dataframe tbody tr th {\n",
       "        vertical-align: top;\n",
       "    }\n",
       "\n",
       "    .dataframe thead th {\n",
       "        text-align: right;\n",
       "    }\n",
       "</style>\n",
       "<table border=\"1\" class=\"dataframe\">\n",
       "  <thead>\n",
       "    <tr style=\"text-align: right;\">\n",
       "      <th></th>\n",
       "      <th>Label</th>\n",
       "    </tr>\n",
       "  </thead>\n",
       "  <tbody>\n",
       "    <tr>\n",
       "      <th>0</th>\n",
       "      <td>Small-flowered Cranesbill</td>\n",
       "    </tr>\n",
       "    <tr>\n",
       "      <th>1</th>\n",
       "      <td>Small-flowered Cranesbill</td>\n",
       "    </tr>\n",
       "    <tr>\n",
       "      <th>2</th>\n",
       "      <td>Small-flowered Cranesbill</td>\n",
       "    </tr>\n",
       "    <tr>\n",
       "      <th>3</th>\n",
       "      <td>Small-flowered Cranesbill</td>\n",
       "    </tr>\n",
       "    <tr>\n",
       "      <th>4</th>\n",
       "      <td>Small-flowered Cranesbill</td>\n",
       "    </tr>\n",
       "    <tr>\n",
       "      <th>...</th>\n",
       "      <td>...</td>\n",
       "    </tr>\n",
       "    <tr>\n",
       "      <th>4745</th>\n",
       "      <td>Loose Silky-bent</td>\n",
       "    </tr>\n",
       "    <tr>\n",
       "      <th>4746</th>\n",
       "      <td>Loose Silky-bent</td>\n",
       "    </tr>\n",
       "    <tr>\n",
       "      <th>4747</th>\n",
       "      <td>Loose Silky-bent</td>\n",
       "    </tr>\n",
       "    <tr>\n",
       "      <th>4748</th>\n",
       "      <td>Loose Silky-bent</td>\n",
       "    </tr>\n",
       "    <tr>\n",
       "      <th>4749</th>\n",
       "      <td>Loose Silky-bent</td>\n",
       "    </tr>\n",
       "  </tbody>\n",
       "</table>\n",
       "<p>4750 rows × 1 columns</p>\n",
       "</div>"
      ],
      "text/plain": [
       "                          Label\n",
       "0     Small-flowered Cranesbill\n",
       "1     Small-flowered Cranesbill\n",
       "2     Small-flowered Cranesbill\n",
       "3     Small-flowered Cranesbill\n",
       "4     Small-flowered Cranesbill\n",
       "...                         ...\n",
       "4745           Loose Silky-bent\n",
       "4746           Loose Silky-bent\n",
       "4747           Loose Silky-bent\n",
       "4748           Loose Silky-bent\n",
       "4749           Loose Silky-bent\n",
       "\n",
       "[4750 rows x 1 columns]"
      ]
     },
     "execution_count": 19,
     "metadata": {},
     "output_type": "execute_result"
    }
   ],
   "source": [
    "labels"
   ]
  },
  {
   "cell_type": "code",
   "execution_count": 20,
   "metadata": {},
   "outputs": [],
   "source": [
    "X_train, X_test, y_train, y_test = train_test_split(numpy_data, labels, test_size=0.1, random_state=1,stratify=labels)"
   ]
  },
  {
   "cell_type": "code",
   "execution_count": 21,
   "metadata": {},
   "outputs": [
    {
     "data": {
      "text/plain": [
       "(4275, 128, 128, 3)"
      ]
     },
     "execution_count": 21,
     "metadata": {},
     "output_type": "execute_result"
    }
   ],
   "source": [
    "X_train.shape"
   ]
  },
  {
   "cell_type": "code",
   "execution_count": 22,
   "metadata": {},
   "outputs": [
    {
     "data": {
      "text/plain": [
       "array([[[[ 61,  78,  95],\n",
       "         [ 61,  78,  95],\n",
       "         [ 60,  77,  94],\n",
       "         ...,\n",
       "         [ 17,  43,  83],\n",
       "         [ 19,  44,  83],\n",
       "         [ 20,  44,  83]],\n",
       "\n",
       "        [[ 61,  78,  94],\n",
       "         [ 61,  78,  94],\n",
       "         [ 60,  77,  93],\n",
       "         ...,\n",
       "         [ 17,  44,  83],\n",
       "         [ 19,  44,  83],\n",
       "         [ 20,  44,  83]],\n",
       "\n",
       "        [[ 61,  78,  94],\n",
       "         [ 60,  78,  93],\n",
       "         [ 58,  76,  91],\n",
       "         ...,\n",
       "         [ 17,  44,  84],\n",
       "         [ 19,  44,  84],\n",
       "         [ 19,  44,  84]],\n",
       "\n",
       "        ...,\n",
       "\n",
       "        [[ 44,  61,  80],\n",
       "         [ 44,  61,  80],\n",
       "         [ 44,  61,  80],\n",
       "         ...,\n",
       "         [ 47,  60,  69],\n",
       "         [ 46,  59,  68],\n",
       "         [ 45,  58,  68]],\n",
       "\n",
       "        [[ 46,  64,  82],\n",
       "         [ 46,  64,  82],\n",
       "         [ 46,  63,  82],\n",
       "         ...,\n",
       "         [ 47,  60,  69],\n",
       "         [ 46,  59,  68],\n",
       "         [ 45,  58,  68]],\n",
       "\n",
       "        [[ 47,  65,  83],\n",
       "         [ 47,  65,  83],\n",
       "         [ 46,  64,  82],\n",
       "         ...,\n",
       "         [ 47,  60,  69],\n",
       "         [ 46,  59,  68],\n",
       "         [ 45,  58,  68]]],\n",
       "\n",
       "\n",
       "       [[[ 64,  72,  85],\n",
       "         [ 64,  73,  84],\n",
       "         [ 61,  71,  82],\n",
       "         ...,\n",
       "         [ 53,  66,  82],\n",
       "         [ 51,  65,  79],\n",
       "         [ 47,  62,  76]],\n",
       "\n",
       "        [[ 64,  73,  85],\n",
       "         [ 65,  74,  85],\n",
       "         [ 64,  73,  84],\n",
       "         ...,\n",
       "         [ 54,  67,  82],\n",
       "         [ 51,  64,  79],\n",
       "         [ 48,  61,  76]],\n",
       "\n",
       "        [[ 63,  73,  85],\n",
       "         [ 64,  74,  85],\n",
       "         [ 63,  73,  84],\n",
       "         ...,\n",
       "         [ 58,  70,  85],\n",
       "         [ 53,  65,  81],\n",
       "         [ 50,  63,  78]],\n",
       "\n",
       "        ...,\n",
       "\n",
       "        [[ 60,  71,  91],\n",
       "         [ 66,  80,  95],\n",
       "         [ 72,  87,  97],\n",
       "         ...,\n",
       "         [ 40,  50,  62],\n",
       "         [ 42,  51,  63],\n",
       "         [ 48,  56,  67]],\n",
       "\n",
       "        [[ 59,  69,  90],\n",
       "         [ 66,  78,  93],\n",
       "         [ 69,  83,  93],\n",
       "         ...,\n",
       "         [ 41,  51,  61],\n",
       "         [ 45,  54,  64],\n",
       "         [ 50,  58,  68]],\n",
       "\n",
       "        [[ 63,  72,  92],\n",
       "         [ 65,  76,  91],\n",
       "         [ 66,  78,  89],\n",
       "         ...,\n",
       "         [ 48,  59,  66],\n",
       "         [ 48,  57,  66],\n",
       "         [ 48,  56,  65]]],\n",
       "\n",
       "\n",
       "       [[[ 52,  61,  76],\n",
       "         [ 47,  60,  76],\n",
       "         [ 48,  62,  79],\n",
       "         ...,\n",
       "         [ 63,  84, 102],\n",
       "         [ 63,  83, 101],\n",
       "         [ 69,  87, 105]],\n",
       "\n",
       "        [[ 46,  58,  73],\n",
       "         [ 49,  62,  78],\n",
       "         [ 47,  61,  79],\n",
       "         ...,\n",
       "         [ 66,  87, 104],\n",
       "         [ 64,  85, 102],\n",
       "         [ 68,  87, 104]],\n",
       "\n",
       "        [[ 44,  59,  72],\n",
       "         [ 46,  62,  77],\n",
       "         [ 46,  62,  79],\n",
       "         ...,\n",
       "         [ 63,  84, 101],\n",
       "         [ 64,  83, 101],\n",
       "         [ 72,  89, 105]],\n",
       "\n",
       "        ...,\n",
       "\n",
       "        [[ 71,  90, 102],\n",
       "         [ 74,  93, 105],\n",
       "         [ 73,  90, 103],\n",
       "         ...,\n",
       "         [ 54,  61,  74],\n",
       "         [ 56,  64,  75],\n",
       "         [ 63,  71,  82]],\n",
       "\n",
       "        [[ 68,  87, 102],\n",
       "         [ 73,  90, 104],\n",
       "         [ 74,  88, 105],\n",
       "         ...,\n",
       "         [ 51,  59,  73],\n",
       "         [ 56,  66,  76],\n",
       "         [ 63,  71,  82]],\n",
       "\n",
       "        [[ 59,  77,  95],\n",
       "         [ 64,  80,  98],\n",
       "         [ 70,  85, 102],\n",
       "         ...,\n",
       "         [ 51,  61,  75],\n",
       "         [ 58,  69,  79],\n",
       "         [ 61,  71,  82]]],\n",
       "\n",
       "\n",
       "       ...,\n",
       "\n",
       "\n",
       "       [[[ 72,  91, 108],\n",
       "         [ 73,  92, 106],\n",
       "         [ 76,  92, 107],\n",
       "         ...,\n",
       "         [ 61,  76,  91],\n",
       "         [ 62,  76,  95],\n",
       "         [ 51,  65,  85]],\n",
       "\n",
       "        [[ 73,  89, 105],\n",
       "         [ 70,  86, 102],\n",
       "         [ 73,  88, 108],\n",
       "         ...,\n",
       "         [ 63,  78,  94],\n",
       "         [ 58,  73,  91],\n",
       "         [ 55,  70,  89]],\n",
       "\n",
       "        [[ 71,  86, 104],\n",
       "         [ 69,  86, 102],\n",
       "         [ 73,  92, 104],\n",
       "         ...,\n",
       "         [ 58,  73,  90],\n",
       "         [ 64,  77,  92],\n",
       "         [ 62,  74,  92]],\n",
       "\n",
       "        ...,\n",
       "\n",
       "        [[ 76,  86,  99],\n",
       "         [ 76,  83,  94],\n",
       "         [ 77,  84,  94],\n",
       "         ...,\n",
       "         [ 67,  74,  85],\n",
       "         [ 73,  78,  89],\n",
       "         [ 85,  91,  98]],\n",
       "\n",
       "        [[ 89, 100, 111],\n",
       "         [ 88,  96, 108],\n",
       "         [ 90,  95, 110],\n",
       "         ...,\n",
       "         [ 92, 101, 106],\n",
       "         [ 93,  99, 106],\n",
       "         [ 91,  99, 105]],\n",
       "\n",
       "        [[ 99, 105, 118],\n",
       "         [ 99, 104, 115],\n",
       "         [ 98, 101, 114],\n",
       "         ...,\n",
       "         [ 98, 105, 115],\n",
       "         [ 99, 106, 115],\n",
       "         [104, 112, 120]]],\n",
       "\n",
       "\n",
       "       [[[ 45,  56,  71],\n",
       "         [ 40,  54,  68],\n",
       "         [ 33,  46,  64],\n",
       "         ...,\n",
       "         [ 40,  50,  71],\n",
       "         [ 64,  82,  97],\n",
       "         [ 71,  93, 110]],\n",
       "\n",
       "        [[ 45,  56,  71],\n",
       "         [ 42,  55,  69],\n",
       "         [ 69,  84,  96],\n",
       "         ...,\n",
       "         [ 37,  54,  71],\n",
       "         [ 72,  93, 111],\n",
       "         [ 79,  97, 111]],\n",
       "\n",
       "        [[ 43,  53,  69],\n",
       "         [ 38,  47,  65],\n",
       "         [ 61,  75,  92],\n",
       "         ...,\n",
       "         [ 41,  62,  86],\n",
       "         [ 83, 103, 119],\n",
       "         [ 79,  98, 115]],\n",
       "\n",
       "        ...,\n",
       "\n",
       "        [[ 39,  37,  45],\n",
       "         [ 39,  36,  43],\n",
       "         [ 39,  37,  47],\n",
       "         ...,\n",
       "         [ 48,  43,  52],\n",
       "         [ 42,  39,  48],\n",
       "         [ 44,  43,  50]],\n",
       "\n",
       "        [[ 37,  37,  42],\n",
       "         [ 36,  36,  44],\n",
       "         [ 36,  36,  43],\n",
       "         ...,\n",
       "         [ 44,  41,  48],\n",
       "         [ 46,  42,  49],\n",
       "         [ 46,  43,  51]],\n",
       "\n",
       "        [[ 36,  35,  44],\n",
       "         [ 37,  33,  41],\n",
       "         [ 38,  37,  44],\n",
       "         ...,\n",
       "         [ 46,  43,  52],\n",
       "         [ 46,  44,  52],\n",
       "         [ 50,  45,  56]]],\n",
       "\n",
       "\n",
       "       [[[ 34,  68,  65],\n",
       "         [ 38,  77,  65],\n",
       "         [ 40,  79,  68],\n",
       "         ...,\n",
       "         [ 87,  86,  88],\n",
       "         [ 85,  84,  88],\n",
       "         [ 80,  81,  84]],\n",
       "\n",
       "        [[ 32,  71,  67],\n",
       "         [ 30,  72,  60],\n",
       "         [ 36,  78,  65],\n",
       "         ...,\n",
       "         [ 93,  93,  94],\n",
       "         [ 87,  87,  89],\n",
       "         [ 87,  86,  89]],\n",
       "\n",
       "        [[ 32,  70,  67],\n",
       "         [ 31,  73,  60],\n",
       "         [ 29,  76,  60],\n",
       "         ...,\n",
       "         [ 91,  92,  94],\n",
       "         [ 90,  90,  92],\n",
       "         [ 91,  89,  92]],\n",
       "\n",
       "        ...,\n",
       "\n",
       "        [[ 42,  55,  69],\n",
       "         [ 54,  60,  68],\n",
       "         [ 58,  63,  68],\n",
       "         ...,\n",
       "         [179, 172, 169],\n",
       "         [179, 171, 169],\n",
       "         [176, 173, 169]],\n",
       "\n",
       "        [[ 48,  61,  76],\n",
       "         [ 53,  58,  69],\n",
       "         [ 71,  77,  84],\n",
       "         ...,\n",
       "         [129, 128, 135],\n",
       "         [132, 128, 138],\n",
       "         [132, 128, 134]],\n",
       "\n",
       "        [[ 48,  60,  79],\n",
       "         [ 51,  56,  72],\n",
       "         [ 62,  70,  78],\n",
       "         ...,\n",
       "         [ 95,  95,  97],\n",
       "         [ 95,  90,  94],\n",
       "         [100,  91,  97]]]], dtype=uint8)"
      ]
     },
     "execution_count": 22,
     "metadata": {},
     "output_type": "execute_result"
    }
   ],
   "source": [
    "X_train"
   ]
  },
  {
   "cell_type": "code",
   "execution_count": 23,
   "metadata": {},
   "outputs": [
    {
     "data": {
      "text/plain": [
       "(4275, 1)"
      ]
     },
     "execution_count": 23,
     "metadata": {},
     "output_type": "execute_result"
    }
   ],
   "source": [
    "y_train.shape"
   ]
  },
  {
   "cell_type": "code",
   "execution_count": 24,
   "metadata": {},
   "outputs": [
    {
     "data": {
      "text/html": [
       "<div>\n",
       "<style scoped>\n",
       "    .dataframe tbody tr th:only-of-type {\n",
       "        vertical-align: middle;\n",
       "    }\n",
       "\n",
       "    .dataframe tbody tr th {\n",
       "        vertical-align: top;\n",
       "    }\n",
       "\n",
       "    .dataframe thead th {\n",
       "        text-align: right;\n",
       "    }\n",
       "</style>\n",
       "<table border=\"1\" class=\"dataframe\">\n",
       "  <thead>\n",
       "    <tr style=\"text-align: right;\">\n",
       "      <th></th>\n",
       "      <th>Label</th>\n",
       "    </tr>\n",
       "  </thead>\n",
       "  <tbody>\n",
       "    <tr>\n",
       "      <th>938</th>\n",
       "      <td>Fat Hen</td>\n",
       "    </tr>\n",
       "    <tr>\n",
       "      <th>1827</th>\n",
       "      <td>Common Chickweed</td>\n",
       "    </tr>\n",
       "    <tr>\n",
       "      <th>2083</th>\n",
       "      <td>Charlock</td>\n",
       "    </tr>\n",
       "    <tr>\n",
       "      <th>229</th>\n",
       "      <td>Small-flowered Cranesbill</td>\n",
       "    </tr>\n",
       "    <tr>\n",
       "      <th>1288</th>\n",
       "      <td>Common wheat</td>\n",
       "    </tr>\n",
       "    <tr>\n",
       "      <th>...</th>\n",
       "      <td>...</td>\n",
       "    </tr>\n",
       "    <tr>\n",
       "      <th>612</th>\n",
       "      <td>Fat Hen</td>\n",
       "    </tr>\n",
       "    <tr>\n",
       "      <th>471</th>\n",
       "      <td>Small-flowered Cranesbill</td>\n",
       "    </tr>\n",
       "    <tr>\n",
       "      <th>3917</th>\n",
       "      <td>Black-grass</td>\n",
       "    </tr>\n",
       "    <tr>\n",
       "      <th>994</th>\n",
       "      <td>Shepherds Purse</td>\n",
       "    </tr>\n",
       "    <tr>\n",
       "      <th>484</th>\n",
       "      <td>Small-flowered Cranesbill</td>\n",
       "    </tr>\n",
       "  </tbody>\n",
       "</table>\n",
       "<p>4275 rows × 1 columns</p>\n",
       "</div>"
      ],
      "text/plain": [
       "                          Label\n",
       "938                     Fat Hen\n",
       "1827           Common Chickweed\n",
       "2083                   Charlock\n",
       "229   Small-flowered Cranesbill\n",
       "1288               Common wheat\n",
       "...                         ...\n",
       "612                     Fat Hen\n",
       "471   Small-flowered Cranesbill\n",
       "3917                Black-grass\n",
       "994             Shepherds Purse\n",
       "484   Small-flowered Cranesbill\n",
       "\n",
       "[4275 rows x 1 columns]"
      ]
     },
     "execution_count": 24,
     "metadata": {},
     "output_type": "execute_result"
    }
   ],
   "source": [
    "y_train"
   ]
  },
  {
   "cell_type": "code",
   "execution_count": 25,
   "metadata": {},
   "outputs": [
    {
     "name": "stdout",
     "output_type": "stream",
     "text": [
      "<class 'pandas.core.frame.DataFrame'>\n"
     ]
    }
   ],
   "source": [
    "print(type(labels))"
   ]
  },
  {
   "cell_type": "code",
   "execution_count": 26,
   "metadata": {},
   "outputs": [
    {
     "data": {
      "text/plain": [
       "(4750, 1)"
      ]
     },
     "execution_count": 26,
     "metadata": {},
     "output_type": "execute_result"
    }
   ],
   "source": [
    "labels.shape"
   ]
  },
  {
   "cell_type": "code",
   "execution_count": 27,
   "metadata": {},
   "outputs": [
    {
     "name": "stdout",
     "output_type": "stream",
     "text": [
      "Small-flowered Cranesbill\n"
     ]
    }
   ],
   "source": [
    "value1 = labels.at[484,'Label']\n",
    "print(value1)"
   ]
  },
  {
   "cell_type": "code",
   "execution_count": 28,
   "metadata": {
    "colab": {
     "base_uri": "https://localhost:8080/"
    },
    "executionInfo": {
     "elapsed": 16,
     "status": "ok",
     "timestamp": 1648091198660,
     "user": {
      "displayName": "Etan O",
      "photoUrl": "https://lh3.googleusercontent.com/a-/AOh14GjP7Z8cWqW2x4DR3SWvO8qEXZcA8p_U4h5bSGmy6mg=s64",
      "userId": "07025373812308569463"
     },
     "user_tz": 300
    },
    "id": "6kW9tYI2yifM",
    "outputId": "be742fdf-8889-4b89-f2b2-47daa05711da"
   },
   "outputs": [
    {
     "data": {
      "text/plain": [
       "(12,)"
      ]
     },
     "execution_count": 28,
     "metadata": {},
     "output_type": "execute_result"
    }
   ],
   "source": [
    "cat_labels.shape"
   ]
  },
  {
   "cell_type": "code",
   "execution_count": 29,
   "metadata": {
    "colab": {
     "base_uri": "https://localhost:8080/"
    },
    "executionInfo": {
     "elapsed": 11,
     "status": "ok",
     "timestamp": 1648091198660,
     "user": {
      "displayName": "Etan O",
      "photoUrl": "https://lh3.googleusercontent.com/a-/AOh14GjP7Z8cWqW2x4DR3SWvO8qEXZcA8p_U4h5bSGmy6mg=s64",
      "userId": "07025373812308569463"
     },
     "user_tz": 300
    },
    "id": "p0OwoZP4pNsQ",
    "outputId": "92cfa7be-8bec-4bf8-db44-2cbb6f497474"
   },
   "outputs": [
    {
     "data": {
      "text/plain": [
       "<tf.Tensor: shape=(4,), dtype=int32, numpy=array([4750,  128,  128,    3])>"
      ]
     },
     "execution_count": 29,
     "metadata": {},
     "output_type": "execute_result"
    }
   ],
   "source": [
    "# Check the shape of the images data array\n",
    "tf.shape(numpy_data)"
   ]
  },
  {
   "cell_type": "code",
   "execution_count": 30,
   "metadata": {
    "colab": {
     "base_uri": "https://localhost:8080/"
    },
    "executionInfo": {
     "elapsed": 7,
     "status": "ok",
     "timestamp": 1648091198660,
     "user": {
      "displayName": "Etan O",
      "photoUrl": "https://lh3.googleusercontent.com/a-/AOh14GjP7Z8cWqW2x4DR3SWvO8qEXZcA8p_U4h5bSGmy6mg=s64",
      "userId": "07025373812308569463"
     },
     "user_tz": 300
    },
    "id": "3biDQdIon-K1",
    "outputId": "2d2944dd-4ec1-4b42-9aa9-cb6df47bce92"
   },
   "outputs": [
    {
     "data": {
      "text/plain": [
       "(4750, 128, 128, 3)"
      ]
     },
     "execution_count": 30,
     "metadata": {},
     "output_type": "execute_result"
    }
   ],
   "source": [
    "numpy_data.shape"
   ]
  },
  {
   "cell_type": "markdown",
   "metadata": {
    "id": "-l07lKib69OC"
   },
   "source": [
    "### Observation\n",
    "\n",
    "#### We notice that there are 4,750 images, with with image sizes of 128 X 128 pixels with three channels. Printing the image confirms that they are colour images and of RGB type.  We will therefore convert the images to grayscale and the shape should now have only 1 channel as it will now be in grayscale.We will also not resize the images as they are all of the same resolution.  Decreasing the size may result in loss of information and increasing the size might introduce padded information which will increase processing time and give the model extra work to figure out which pixels are irrelevnt"
   ]
  },
  {
   "cell_type": "code",
   "execution_count": 31,
   "metadata": {
    "colab": {
     "base_uri": "https://localhost:8080/"
    },
    "executionInfo": {
     "elapsed": 280,
     "status": "ok",
     "timestamp": 1648091198934,
     "user": {
      "displayName": "Etan O",
      "photoUrl": "https://lh3.googleusercontent.com/a-/AOh14GjP7Z8cWqW2x4DR3SWvO8qEXZcA8p_U4h5bSGmy6mg=s64",
      "userId": "07025373812308569463"
     },
     "user_tz": 300
    },
    "id": "oktNx1rzuwfk",
    "outputId": "3d4717b5-c0eb-4872-f742-50d5268b9b08"
   },
   "outputs": [
    {
     "data": {
      "text/plain": [
       "(12,)"
      ]
     },
     "execution_count": 31,
     "metadata": {},
     "output_type": "execute_result"
    }
   ],
   "source": [
    "# Check the shape of cat_labels)\n",
    "cat_labels.shape"
   ]
  },
  {
   "cell_type": "code",
   "execution_count": 32,
   "metadata": {
    "colab": {
     "base_uri": "https://localhost:8080/"
    },
    "executionInfo": {
     "elapsed": 5,
     "status": "ok",
     "timestamp": 1648091198935,
     "user": {
      "displayName": "Etan O",
      "photoUrl": "https://lh3.googleusercontent.com/a-/AOh14GjP7Z8cWqW2x4DR3SWvO8qEXZcA8p_U4h5bSGmy6mg=s64",
      "userId": "07025373812308569463"
     },
     "user_tz": 300
    },
    "id": "OrJtrE1yKpqK",
    "outputId": "62b7de9a-e0b8-48de-8981-a6a8735ef1e7"
   },
   "outputs": [
    {
     "data": {
      "text/plain": [
       "(4750, 1)"
      ]
     },
     "execution_count": 32,
     "metadata": {},
     "output_type": "execute_result"
    }
   ],
   "source": [
    "labels.shape"
   ]
  },
  {
   "cell_type": "markdown",
   "metadata": {
    "id": "VXiAQmTovGUt"
   },
   "source": [
    "### Observation\n",
    "#### We can confirm that the number of rows of the labels matches that of the images."
   ]
  },
  {
   "cell_type": "code",
   "execution_count": 33,
   "metadata": {
    "colab": {
     "base_uri": "https://localhost:8080/",
     "height": 285
    },
    "executionInfo": {
     "elapsed": 602,
     "status": "ok",
     "timestamp": 1648102282891,
     "user": {
      "displayName": "Etan O",
      "photoUrl": "https://lh3.googleusercontent.com/a-/AOh14GjP7Z8cWqW2x4DR3SWvO8qEXZcA8p_U4h5bSGmy6mg=s64",
      "userId": "07025373812308569463"
     },
     "user_tz": 300
    },
    "id": "3IRt1AluMQfh",
    "outputId": "23bd0817-349a-4525-8dbe-3c54965413b6"
   },
   "outputs": [
    {
     "data": {
      "text/plain": [
       "<matplotlib.image.AxesImage at 0x1e3e5f74850>"
      ]
     },
     "execution_count": 33,
     "metadata": {},
     "output_type": "execute_result"
    },
    {
     "data": {
      "image/png": "[encoded data removed]",
      "text/plain": [
       "<Figure size 432x288 with 1 Axes>"
      ]
     },
     "metadata": {
      "needs_background": "light"
     },
     "output_type": "display_data"
    }
   ],
   "source": [
    "# Plot one of the images #276\n",
    "plt.imshow(numpy_data[4200])"
   ]
  },
  {
   "cell_type": "code",
   "execution_count": 34,
   "metadata": {
    "executionInfo": {
     "elapsed": 1036,
     "status": "ok",
     "timestamp": 1648092708632,
     "user": {
      "displayName": "Etan O",
      "photoUrl": "https://lh3.googleusercontent.com/a-/AOh14GjP7Z8cWqW2x4DR3SWvO8qEXZcA8p_U4h5bSGmy6mg=s64",
      "userId": "07025373812308569463"
     },
     "user_tz": 300
    },
    "id": "0AX-T87EjIFd"
   },
   "outputs": [],
   "source": [
    "# Image_converted = cv2.cvtColor(numpy_data, cv2.COLOR_BGR2RGB)"
   ]
  },
  {
   "cell_type": "code",
   "execution_count": 35,
   "metadata": {
    "colab": {
     "base_uri": "https://localhost:8080/",
     "height": 285
    },
    "executionInfo": {
     "elapsed": 564,
     "status": "ok",
     "timestamp": 1648102296516,
     "user": {
      "displayName": "Etan O",
      "photoUrl": "https://lh3.googleusercontent.com/a-/AOh14GjP7Z8cWqW2x4DR3SWvO8qEXZcA8p_U4h5bSGmy6mg=s64",
      "userId": "07025373812308569463"
     },
     "user_tz": 300
    },
    "id": "PV3bgXcE58c4",
    "outputId": "2200f04f-7ba4-441f-eeaf-dacf036181b7"
   },
   "outputs": [
    {
     "data": {
      "text/plain": [
       "<matplotlib.image.AxesImage at 0x1e3e70301f0>"
      ]
     },
     "execution_count": 35,
     "metadata": {},
     "output_type": "execute_result"
    },
    {
     "data": {
      "image/png": "[encoded data removed]",
      "text/plain": [
       "<Figure size 432x288 with 1 Axes>"
      ]
     },
     "metadata": {
      "needs_background": "light"
     },
     "output_type": "display_data"
    }
   ],
   "source": [
    "plt.imshow(numpy_data[4200])"
   ]
  },
  {
   "cell_type": "code",
   "execution_count": 36,
   "metadata": {
    "colab": {
     "base_uri": "https://localhost:8080/",
     "height": 145
    },
    "executionInfo": {
     "elapsed": 993,
     "status": "ok",
     "timestamp": 1648092773186,
     "user": {
      "displayName": "Etan O",
      "photoUrl": "https://lh3.googleusercontent.com/a-/AOh14GjP7Z8cWqW2x4DR3SWvO8qEXZcA8p_U4h5bSGmy6mg=s64",
      "userId": "07025373812308569463"
     },
     "user_tz": 300
    },
    "id": "bwtm4_6phk1L",
    "outputId": "3ac9e86c-c228-4c24-b6bd-9ec89a85016d"
   },
   "outputs": [],
   "source": [
    "# cv2_imshow(numpy_data[276])"
   ]
  },
  {
   "cell_type": "code",
   "execution_count": 37,
   "metadata": {
    "colab": {
     "base_uri": "https://localhost:8080/",
     "height": 285
    },
    "executionInfo": {
     "elapsed": 1550,
     "status": "ok",
     "timestamp": 1648091403624,
     "user": {
      "displayName": "Etan O",
      "photoUrl": "https://lh3.googleusercontent.com/a-/AOh14GjP7Z8cWqW2x4DR3SWvO8qEXZcA8p_U4h5bSGmy6mg=s64",
      "userId": "07025373812308569463"
     },
     "user_tz": 300
    },
    "id": "L45_GKoFBF--",
    "outputId": "f5500732-3375-42ba-ce88-f3143d11d853"
   },
   "outputs": [
    {
     "data": {
      "text/plain": [
       "<matplotlib.image.AxesImage at 0x1e3e708ca00>"
      ]
     },
     "execution_count": 37,
     "metadata": {},
     "output_type": "execute_result"
    },
    {
     "data": {
      "image/png": "[encoded data removed]",
      "text/plain": [
       "<Figure size 432x288 with 1 Axes>"
      ]
     },
     "metadata": {
      "needs_background": "light"
     },
     "output_type": "display_data"
    }
   ],
   "source": [
    "plt.imshow(numpy_data[276])"
   ]
  },
  {
   "cell_type": "code",
   "execution_count": 38,
   "metadata": {
    "colab": {
     "base_uri": "https://localhost:8080/",
     "height": 285
    },
    "executionInfo": {
     "elapsed": 9,
     "status": "ok",
     "timestamp": 1648091201016,
     "user": {
      "displayName": "Etan O",
      "photoUrl": "https://lh3.googleusercontent.com/a-/AOh14GjP7Z8cWqW2x4DR3SWvO8qEXZcA8p_U4h5bSGmy6mg=s64",
      "userId": "07025373812308569463"
     },
     "user_tz": 300
    },
    "id": "AII91XtvBHp4",
    "outputId": "ec2f1a42-e8d2-431b-b785-91b5eca29004"
   },
   "outputs": [
    {
     "data": {
      "text/plain": [
       "<matplotlib.image.AxesImage at 0x1e3e70e5d90>"
      ]
     },
     "execution_count": 38,
     "metadata": {},
     "output_type": "execute_result"
    },
    {
     "data": {
      "image/png": "[encoded data removed]",
      "text/plain": [
       "<Figure size 432x288 with 1 Axes>"
      ]
     },
     "metadata": {
      "needs_background": "light"
     },
     "output_type": "display_data"
    }
   ],
   "source": [
    "# print(\"Label: {}\".format(labels[11]))\n",
    "plt.imshow(numpy_data[11], cmap='gray')"
   ]
  },
  {
   "cell_type": "markdown",
   "metadata": {
    "id": "FTTqL21EzN2P"
   },
   "source": [
    "## Observation\n",
    "\n",
    "#### It is useful to note that the numpy loads images as RGB while OpenCV loads images as BGR.  For our purposes we are using OpenCV to manipulate the images and they provide the \"real\" colours of the images as can be seen from the images above and below"
   ]
  },
  {
   "cell_type": "code",
   "execution_count": 39,
   "metadata": {
    "colab": {
     "base_uri": "https://localhost:8080/"
    },
    "executionInfo": {
     "elapsed": 260,
     "status": "ok",
     "timestamp": 1648091201270,
     "user": {
      "displayName": "Etan O",
      "photoUrl": "https://lh3.googleusercontent.com/a-/AOh14GjP7Z8cWqW2x4DR3SWvO8qEXZcA8p_U4h5bSGmy6mg=s64",
      "userId": "07025373812308569463"
     },
     "user_tz": 300
    },
    "id": "UIqFrZLJH-61",
    "outputId": "3eb2ad29-84ae-4324-f05c-387061916a73"
   },
   "outputs": [
    {
     "data": {
      "text/plain": [
       "<tf.Tensor: shape=(3,), dtype=int32, numpy=array([4750,  128,  128])>"
      ]
     },
     "execution_count": 39,
     "metadata": {},
     "output_type": "execute_result"
    }
   ],
   "source": [
    "# Loop through and convert all the images in the array from RGB to Gray\n",
    "# and put them into a new array called gray_images\n",
    "gray_images = np.zeros(numpy_data.shape[:-1])\n",
    "for i in range(numpy_data.shape[0]): \n",
    "    gray_images[i] = cv2.cvtColor(numpy_data[i], cv2.COLOR_BGR2GRAY)\n",
    "tf.shape(gray_images)"
   ]
  },
  {
   "cell_type": "markdown",
   "metadata": {
    "id": "LF9qsCqkqO9M"
   },
   "source": [
    "### Observation\n",
    "\n",
    "### We note that the array now has only one channel after converting from colour to grayscale, we also note that the datatype is still integer and we will deal with this later"
   ]
  },
  {
   "cell_type": "markdown",
   "metadata": {
    "id": "nI3uFAjp1Or7"
   },
   "source": []
  },
  {
   "cell_type": "code",
   "execution_count": 40,
   "metadata": {
    "colab": {
     "base_uri": "https://localhost:8080/",
     "height": 529
    },
    "executionInfo": {
     "elapsed": 736,
     "status": "ok",
     "timestamp": 1648091286919,
     "user": {
      "displayName": "Etan O",
      "photoUrl": "https://lh3.googleusercontent.com/a-/AOh14GjP7Z8cWqW2x4DR3SWvO8qEXZcA8p_U4h5bSGmy6mg=s64",
      "userId": "07025373812308569463"
     },
     "user_tz": 300
    },
    "id": "KiKDFu_xNe1E",
    "outputId": "c0bf1da6-8dfe-4063-b880-7361633f3d98"
   },
   "outputs": [
    {
     "ename": "NameError",
     "evalue": "name 'cv2_imshow' is not defined",
     "output_type": "error",
     "traceback": [
      "\u001b[1;31m---------------------------------------------------------------------------\u001b[0m",
      "\u001b[1;31mNameError\u001b[0m                                 Traceback (most recent call last)",
      "\u001b[1;32m<ipython-input-40-c46a5faf4dab>\u001b[0m in \u001b[0;36m<module>\u001b[1;34m\u001b[0m\n\u001b[0;32m      1\u001b[0m \u001b[1;31m# Checking randomn images to confirm conversion to grayscale\u001b[0m\u001b[1;33m\u001b[0m\u001b[1;33m\u001b[0m\u001b[1;33m\u001b[0m\u001b[0m\n\u001b[1;32m----> 2\u001b[1;33m \u001b[0mcv2_imshow\u001b[0m\u001b[1;33m(\u001b[0m\u001b[0mgray_images\u001b[0m\u001b[1;33m[\u001b[0m\u001b[1;36m4042\u001b[0m\u001b[1;33m]\u001b[0m\u001b[1;33m)\u001b[0m\u001b[1;33m\u001b[0m\u001b[1;33m\u001b[0m\u001b[0m\n\u001b[0m\u001b[0;32m      3\u001b[0m \u001b[0mcv2_imshow\u001b[0m\u001b[1;33m(\u001b[0m\u001b[0mnumpy_data\u001b[0m\u001b[1;33m[\u001b[0m\u001b[1;36m4042\u001b[0m\u001b[1;33m]\u001b[0m\u001b[1;33m)\u001b[0m\u001b[1;33m\u001b[0m\u001b[1;33m\u001b[0m\u001b[0m\n\u001b[0;32m      4\u001b[0m \u001b[0mcv2_imshow\u001b[0m\u001b[1;33m(\u001b[0m\u001b[0mgray_images\u001b[0m\u001b[1;33m[\u001b[0m\u001b[1;36m276\u001b[0m\u001b[1;33m]\u001b[0m\u001b[1;33m)\u001b[0m\u001b[1;33m\u001b[0m\u001b[1;33m\u001b[0m\u001b[0m\n\u001b[0;32m      5\u001b[0m \u001b[0mcv2_imshow\u001b[0m\u001b[1;33m(\u001b[0m\u001b[0mnumpy_data\u001b[0m\u001b[1;33m[\u001b[0m\u001b[1;36m276\u001b[0m\u001b[1;33m]\u001b[0m\u001b[1;33m)\u001b[0m\u001b[1;33m\u001b[0m\u001b[1;33m\u001b[0m\u001b[0m\n",
      "\u001b[1;31mNameError\u001b[0m: name 'cv2_imshow' is not defined"
     ]
    }
   ],
   "source": [
    "# Checking randomn images to confirm conversion to grayscale\n",
    "cv2_imshow(gray_images[4042])\n",
    "cv2_imshow(numpy_data[4042])\n",
    "cv2_imshow(gray_images[276])\n",
    "cv2_imshow(numpy_data[276])"
   ]
  },
  {
   "cell_type": "code",
   "execution_count": null,
   "metadata": {
    "colab": {
     "base_uri": "https://localhost:8080/"
    },
    "executionInfo": {
     "elapsed": 7,
     "status": "ok",
     "timestamp": 1648089708657,
     "user": {
      "displayName": "Etan O",
      "photoUrl": "https://lh3.googleusercontent.com/a-/AOh14GjP7Z8cWqW2x4DR3SWvO8qEXZcA8p_U4h5bSGmy6mg=s64",
      "userId": "07025373812308569463"
     },
     "user_tz": 300
    },
    "id": "m_LVyFBamgim",
    "outputId": "eb3c151f-28d1-4e86-c4a0-124ab42c61eb"
   },
   "outputs": [],
   "source": [
    "gray_images.shape"
   ]
  },
  {
   "cell_type": "code",
   "execution_count": null,
   "metadata": {
    "executionInfo": {
     "elapsed": 7,
     "status": "ok",
     "timestamp": 1648089708658,
     "user": {
      "displayName": "Etan O",
      "photoUrl": "https://lh3.googleusercontent.com/a-/AOh14GjP7Z8cWqW2x4DR3SWvO8qEXZcA8p_U4h5bSGmy6mg=s64",
      "userId": "07025373812308569463"
     },
     "user_tz": 300
    },
    "id": "-C_zYg4YpydD"
   },
   "outputs": [],
   "source": [
    "# Sequential model in tensorflow.keras expects data to be in the format (num, height, width, channels)\n",
    "# where, num = number of examples, height = height of image, width = width of image, channels = number of channels\n",
    "# we will therefore explicitly show the channel\n",
    "gray_images = gray_images.reshape(gray_images.shape[0], 128, 128, 1)"
   ]
  },
  {
   "cell_type": "code",
   "execution_count": null,
   "metadata": {
    "colab": {
     "base_uri": "https://localhost:8080/"
    },
    "executionInfo": {
     "elapsed": 7,
     "status": "ok",
     "timestamp": 1648089708658,
     "user": {
      "displayName": "Etan O",
      "photoUrl": "https://lh3.googleusercontent.com/a-/AOh14GjP7Z8cWqW2x4DR3SWvO8qEXZcA8p_U4h5bSGmy6mg=s64",
      "userId": "07025373812308569463"
     },
     "user_tz": 300
    },
    "id": "rdqW_4j1tA4k",
    "outputId": "a04f3194-f296-4aab-ff64-c4ec5a28a406"
   },
   "outputs": [],
   "source": [
    "gray_images.shape"
   ]
  },
  {
   "cell_type": "markdown",
   "metadata": {
    "id": "JFlYqWsZbdv3"
   },
   "source": [
    "### We can now append the labels to the array"
   ]
  },
  {
   "cell_type": "code",
   "execution_count": null,
   "metadata": {
    "id": "0OPkmSrbAMOt"
   },
   "outputs": [],
   "source": [
    "d[y_train['Label'][i]].append(img)"
   ]
  },
  {
   "cell_type": "code",
   "execution_count": null,
   "metadata": {
    "executionInfo": {
     "elapsed": 282,
     "status": "ok",
     "timestamp": 1648093388949,
     "user": {
      "displayName": "Etan O",
      "photoUrl": "https://lh3.googleusercontent.com/a-/AOh14GjP7Z8cWqW2x4DR3SWvO8qEXZcA8p_U4h5bSGmy6mg=s64",
      "userId": "07025373812308569463"
     },
     "user_tz": 300
    },
    "id": "9vvoYzjqeepf"
   },
   "outputs": [],
   "source": [
    "#  First we convert the numpy array to a dataframe\n",
    "# gray_images_df = pd.DataFrame(gray_images)\n",
    "# np.hstack((gray_images,labels))"
   ]
  },
  {
   "cell_type": "code",
   "execution_count": null,
   "metadata": {
    "id": "CHdYIi06fOqh"
   },
   "outputs": [],
   "source": [
    "dataframe.insert(2, 'Places', places)"
   ]
  },
  {
   "cell_type": "markdown",
   "metadata": {
    "id": "2ZooQXEe57Ky"
   },
   "source": [
    "### Observation\n",
    "\n",
    "#### In order to take advantage of GPU processing, we will need to convert the numpy array, gray_images, into a tensor since GPU processing does not support numpy arrays"
   ]
  },
  {
   "cell_type": "code",
   "execution_count": null,
   "metadata": {
    "colab": {
     "base_uri": "https://localhost:8080/"
    },
    "executionInfo": {
     "elapsed": 688,
     "status": "ok",
     "timestamp": 1648010191074,
     "user": {
      "displayName": "Etan O",
      "photoUrl": "https://lh3.googleusercontent.com/a-/AOh14GjP7Z8cWqW2x4DR3SWvO8qEXZcA8p_U4h5bSGmy6mg=s64",
      "userId": "07025373812308569463"
     },
     "user_tz": 300
    },
    "id": "qgH1iSNb5Zxj",
    "outputId": "520dc2b0-181a-453d-b336-c7e9027281dc"
   },
   "outputs": [],
   "source": [
    "# We will convert the numpy array to a tensor\n",
    "# We will also ensure that the integers are now stored as floats as discussed earlier\n",
    "# as we will need to normalise later\n",
    "tensor1 = tf.convert_to_tensor(gray_images, dtype=float)\n",
    "tensor1.shape"
   ]
  },
  {
   "cell_type": "code",
   "execution_count": null,
   "metadata": {
    "colab": {
     "base_uri": "https://localhost:8080/"
    },
    "executionInfo": {
     "elapsed": 282,
     "status": "ok",
     "timestamp": 1648010194171,
     "user": {
      "displayName": "Etan O",
      "photoUrl": "https://lh3.googleusercontent.com/a-/AOh14GjP7Z8cWqW2x4DR3SWvO8qEXZcA8p_U4h5bSGmy6mg=s64",
      "userId": "07025373812308569463"
     },
     "user_tz": 300
    },
    "id": "O3mcEVsHpzte",
    "outputId": "d2ff24c4-0a23-4de8-d9a9-bc6be4400712"
   },
   "outputs": [],
   "source": [
    "# We will also confirm that the tensor data type is float\n",
    "tensor1.dtype"
   ]
  },
  {
   "cell_type": "markdown",
   "metadata": {
    "id": "hWT1JrqG3JXJ"
   },
   "source": [
    "### Normalize data\n",
    "#### we must normalize our data as it is always required in neural network models we can achieve this by dividing the RGB codes with 255 (which is the maximum RGB code minus the minimum RGB code) normalize X_train and X_test make sure that the values are float so that we can get decimal points after division"
   ]
  },
  {
   "cell_type": "code",
   "execution_count": null,
   "metadata": {
    "id": "isKW8ub63XKJ"
   },
   "outputs": [],
   "source": [
    "tensor1 /= 255"
   ]
  },
  {
   "cell_type": "code",
   "execution_count": null,
   "metadata": {
    "colab": {
     "base_uri": "https://localhost:8080/"
    },
    "executionInfo": {
     "elapsed": 282,
     "status": "ok",
     "timestamp": 1648010225518,
     "user": {
      "displayName": "Etan O",
      "photoUrl": "https://lh3.googleusercontent.com/a-/AOh14GjP7Z8cWqW2x4DR3SWvO8qEXZcA8p_U4h5bSGmy6mg=s64",
      "userId": "07025373812308569463"
     },
     "user_tz": 300
    },
    "id": "7YKDymkH3kVN",
    "outputId": "0e8ba811-d110-43ea-e672-6582c4a5824f"
   },
   "outputs": [],
   "source": [
    "tensor1"
   ]
  },
  {
   "cell_type": "code",
   "execution_count": null,
   "metadata": {
    "colab": {
     "base_uri": "https://localhost:8080/"
    },
    "executionInfo": {
     "elapsed": 296,
     "status": "ok",
     "timestamp": 1648010263119,
     "user": {
      "displayName": "Etan O",
      "photoUrl": "https://lh3.googleusercontent.com/a-/AOh14GjP7Z8cWqW2x4DR3SWvO8qEXZcA8p_U4h5bSGmy6mg=s64",
      "userId": "07025373812308569463"
     },
     "user_tz": 300
    },
    "id": "E_Z6rHs43_Q7",
    "outputId": "212724ef-a877-40c4-9414-58e9501a61a2"
   },
   "outputs": [],
   "source": [
    "# Checking the shape, number of images and the maximum value of the variables\n",
    "print(\"The shape of tensor 1 is:\", tensor1.shape)\n",
    "print(\"The number of images in tensor1 is:\", tensor1.shape[0])\n",
    "# print(\"The maximum size of the variables in tensor1 is:\", tensor1.max())"
   ]
  },
  {
   "cell_type": "code",
   "execution_count": null,
   "metadata": {
    "colab": {
     "base_uri": "https://localhost:8080/"
    },
    "executionInfo": {
     "elapsed": 349,
     "status": "ok",
     "timestamp": 1648010270817,
     "user": {
      "displayName": "Etan O",
      "photoUrl": "https://lh3.googleusercontent.com/a-/AOh14GjP7Z8cWqW2x4DR3SWvO8qEXZcA8p_U4h5bSGmy6mg=s64",
      "userId": "07025373812308569463"
     },
     "user_tz": 300
    },
    "id": "WlUnSKoeIaxK",
    "outputId": "91f618dd-a18f-413b-d643-d02ee596a988"
   },
   "outputs": [],
   "source": [
    "# Check the number of elements in the original numpy_array\n",
    "tf.size(numpy_data).numpy()"
   ]
  },
  {
   "cell_type": "code",
   "execution_count": null,
   "metadata": {
    "colab": {
     "base_uri": "https://localhost:8080/"
    },
    "executionInfo": {
     "elapsed": 4,
     "status": "ok",
     "timestamp": 1648010273748,
     "user": {
      "displayName": "Etan O",
      "photoUrl": "https://lh3.googleusercontent.com/a-/AOh14GjP7Z8cWqW2x4DR3SWvO8qEXZcA8p_U4h5bSGmy6mg=s64",
      "userId": "07025373812308569463"
     },
     "user_tz": 300
    },
    "id": "yJmC6_2FJO0E",
    "outputId": "90a1ec63-2d73-4632-8b65-9325727045ce"
   },
   "outputs": [],
   "source": [
    "# Check the number of elements in the tensor\n",
    "tf.size(tensor1).numpy()"
   ]
  },
  {
   "cell_type": "markdown",
   "metadata": {
    "id": "Fx8DaBE0JcDK"
   },
   "source": [
    "### Observation\n",
    "\n",
    "#### We notice that the number of elements in the tensor1, with 1 dimension, is exactly 1/3 the number of elements in original numpy_data which had 3 dimensions"
   ]
  },
  {
   "cell_type": "code",
   "execution_count": null,
   "metadata": {
    "colab": {
     "base_uri": "https://localhost:8080/",
     "height": 200
    },
    "executionInfo": {
     "elapsed": 439,
     "status": "error",
     "timestamp": 1648010334440,
     "user": {
      "displayName": "Etan O",
      "photoUrl": "https://lh3.googleusercontent.com/a-/AOh14GjP7Z8cWqW2x4DR3SWvO8qEXZcA8p_U4h5bSGmy6mg=s64",
      "userId": "07025373812308569463"
     },
     "user_tz": 300
    },
    "id": "B9Xn-5U1rSUL",
    "outputId": "b124b6a2-523d-49e1-90fd-b147d5f37d0d"
   },
   "outputs": [],
   "source": [
    "# Converting the list into DataFrame\n",
    "y_train = pd.DataFrame(y_train, columns=[\"Label\"],dtype=object) \n",
    "# y_test = pd.DataFrame(y_test, columns=[\"Label\"],dtype=object)"
   ]
  },
  {
   "cell_type": "code",
   "execution_count": null,
   "metadata": {
    "id": "jEOjq8ORqOij"
   },
   "outputs": [],
   "source": [
    "# Creating two different lists to store the Numpy arrays and the corresponding labels\n",
    "X_train = []                                                                   \n",
    "y_train = []\n",
    "np.random.shuffle(gray_images)                                               # Shuffling data to reduce variance and making sure that model remains general and overfit less\n",
    "for features,label in gray_images:                                           # Iterating over the training data which is generated from the create_training_data() function \n",
    "    X_train.append(features)                                                   # Appending images into X_train\n",
    "    y_train.append(label)                                                      # Appending labels into y_train"
   ]
  },
  {
   "cell_type": "code",
   "execution_count": null,
   "metadata": {
    "id": "s2QdYYt4p40z"
   },
   "outputs": [],
   "source": [
    "# Converting the pixel values into Numpy array\n",
    "X_train= np.array(X_train) \n",
    "X_test= np.array(X_test) "
   ]
  },
  {
   "cell_type": "code",
   "execution_count": null,
   "metadata": {
    "id": "xMo3oLkavxdb"
   },
   "outputs": [],
   "source": [
    "# Setting up parameters for batch size and image size\n",
    "batch_size = 32\n",
    "img_height = 128\n",
    "img_width = 128"
   ]
  },
  {
   "cell_type": "code",
   "execution_count": null,
   "metadata": {
    "id": "9lFufanikzwy"
   },
   "outputs": [],
   "source": [
    "# initialized a sequential model\n",
    "model_2 = Sequential()\n",
    "\n",
    "# adding first conv layer with 256 filters and kernel size 5x5 , with ReLU activation and padding 'same' provides the output size same as the input size\n",
    "#input_shape denotes input image dimension of images\n",
    "model_2.add(Conv2D(filters = 256, kernel_size = (5,5),padding = 'Same', \n",
    "                 activation ='relu', input_shape = (150,150,1)))  # Shape of the image given to the model\n",
    "\n",
    "# adding max pooling to reduce the size of output of first conv layer\n",
    "model_2.add(MaxPool2D(pool_size=(2,2)))\n",
    "#  adding dropout to randomly switch off 25% neurons to reduce overfitting\n",
    "model_2.add(Dropout(0.25))\n",
    "\n",
    "#  adding second conv layer with 128 filters and with kernel size 3x3 and ReLu activation function\n",
    "model_2.add(Conv2D(filters = 128, kernel_size = (3,3),padding = 'Same', \n",
    "                 activation ='relu'))\n",
    "# adding max pooling havinf pool_size and strides with (2,2) to reduce the size of output of second conv layer\n",
    "model_2.add(MaxPool2D(pool_size=(2,2), strides=(2,2)))\n",
    "#  adding dropout to randomly switch off 25% neurons to reduce overfitting\n",
    "model_2.add(Dropout(0.25))\n",
    "\n",
    "#  adding third conv layer with 128 filters and with kernel size 3x3 and ReLu activation function\n",
    "model_2.add(Conv2D(filters = 128, kernel_size = (3,3),padding = 'Same', \n",
    "                 activation ='relu'))\n",
    "# adding max pooling havinf pool_size and strides with (2,2) to reduce the size of output of third conv layer\n",
    "model_2.add(MaxPool2D(pool_size=(2,2), strides=(2,2)))\n",
    "#  adding dropout to randomly switch off 30% neurons to reduce overfitting\n",
    "model_2.add(Dropout(0.3))\n",
    "\n",
    "# adding fourth conv layer with 128 filters and with kernel size 2x2 and ReLu activation function\n",
    "model_2.add(Conv2D(filters = 128, kernel_size = (2,2),padding = 'Same', \n",
    "                 activation ='relu'))\n",
    "# adding max pooling havinf pool_size and strides with (2,2) to reduce the size of output of fourth conv layer\n",
    "model_2.add(MaxPool2D(pool_size=(2,2), strides=(2,2)))\n",
    "#  adding dropout to randomly switch off 30% neurons to reduce overfitting\n",
    "model_2.add(Dropout(0.3))\n",
    "\n",
    "# adding fifth conv layer with 128 filters and with kernel size 2x2 and ReLu activation function\n",
    "model_2.add(Conv2D(filters = 128, kernel_size = (2,2),padding = 'Same', \n",
    "                 activation ='relu'))\n",
    "# adding max pooling havinf pool_size and strides with (2,2) to reduce the size of output of fifth conv layer\n",
    "model_2.add(MaxPool2D(pool_size=(2,2), strides=(2,2)))\n",
    "#  adding dropout to randomly switch off 30% neurons to reduce overfitting\n",
    "model_2.add(Dropout(0.3))\n",
    "\n",
    "# flattening the 3-d output of the conv layer after max pooling to make it ready for creating dense connections\n",
    "model_2.add(Flatten())\n",
    "# adding a fully connected dense layer with 1024 neurons \n",
    "model_2.add(Dense(1024, activation = \"relu\"))\n",
    "#  adding dropout to randomly switch off 50% neurons to reduce overfitting\n",
    "model_2.add(Dropout(0.5))\n",
    "# adding the output layer with 4 neurons and activation functions as softmax since this is a multi-class classification problem.\n",
    "model_2.add(Dense(12, activation = \"softmax\"))"
   ]
  },
  {
   "cell_type": "code",
   "execution_count": null,
   "metadata": {
    "id": "_D5DrGebngir"
   },
   "outputs": [],
   "source": [
    "model_2.summary()"
   ]
  },
  {
   "cell_type": "code",
   "execution_count": null,
   "metadata": {
    "id": "GmvMmNHapTji"
   },
   "outputs": [],
   "source": [
    "# Taking Adam as an optimizer with learning rate 0.001\n",
    "optimizer = Adam(lr=0.001)\n",
    "# Compiling the model with Adam as optimizer, categorical_crossentropy as loss function and accuracy as metrics\n",
    "model_2.compile(optimizer = optimizer , loss = \"categorical_crossentropy\", metrics=[\"accuracy\"])\n",
    "es = EarlyStopping(monitor='val_loss', mode='min', verbose=1, patience=5)\n",
    "mc = ModelCheckpoint('best_model.h5', monitor='val_accuracy', mode='max', verbose=1, save_best_only=True)\n",
    "# Fitting the model with 30 epochs and validation_split as 20%\n",
    "history=model_2.fit(X_train, \n",
    "          y_train_e,  \n",
    "          epochs=30, \n",
    "          batch_size=64,validation_split=0.20,callbacks=[es, mc])  "
   ]
  },
  {
   "cell_type": "code",
   "execution_count": null,
   "metadata": {
    "executionInfo": {
     "elapsed": 252,
     "status": "ok",
     "timestamp": 1648101448030,
     "user": {
      "displayName": "Etan O",
      "photoUrl": "https://lh3.googleusercontent.com/a-/AOh14GjP7Z8cWqW2x4DR3SWvO8qEXZcA8p_U4h5bSGmy6mg=s64",
      "userId": "07025373812308569463"
     },
     "user_tz": 300
    },
    "id": "Nor4515Mem5t"
   },
   "outputs": [],
   "source": [
    "# Splitting the data into training and testing\n",
    "# X_train, X_test, y_train, y_test = train_test_split(numpy_data,labels , test_size=0.1, random_state=1,stratify=labels)"
   ]
  }
 ],
 "metadata": {
  "accelerator": "GPU",
  "colab": {
   "authorship_tag": "ABX9TyOlfcu0ucPj7p/vfo5JY5y7",
   "mount_file_id": "1tGVM18j0uARLKMefto5pejPVjtHBLKym",
   "name": "Plants_seedling_classification_submission.ipynb",
   "provenance": []
  },
  "kernelspec": {
   "display_name": "Python 3",
   "language": "python",
   "name": "python3"
  },
  "language_info": {
   "codemirror_mode": {
    "name": "ipython",
    "version": 3
   },
   "file_extension": ".py",
   "mimetype": "text/x-python",
   "name": "python",
   "nbconvert_exporter": "python",
   "pygments_lexer": "ipython3",
   "version": "3.8.8"
  }
 },
 "nbformat": 4,
 "nbformat_minor": 1
}
